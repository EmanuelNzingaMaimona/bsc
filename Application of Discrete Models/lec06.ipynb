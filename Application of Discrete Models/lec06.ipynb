{
 "cells": [
  {
   "cell_type": "code",
   "execution_count": 1,
   "metadata": {
    "collapsed": false
   },
   "outputs": [
    {
     "name": "stdout",
     "output_type": "stream",
     "text": [
      "3\n"
     ]
    }
   ],
   "source": [
    "for x in list(factor(45)):\n",
    "    if x[1]>1:\n",
    "        print(x[0])"
   ]
  },
  {
   "cell_type": "markdown",
   "metadata": {
    "collapsed": false
   },
   "source": [
    "### Prime decomposition dictionaries\n",
    "\n",
    "If $N$ is a positive integer, then $N$ can be uniquely decomposed into a product of primes.  Here \"uniquely\" means that $N$ has a unique expression of the form\n",
    "$$N = 2^{e_2} 3^{e_3} 5^{e_5} \\cdots$$\n",
    "in which the exponents $e_2, e_3, e_5$, etc., are natural numbers \\(and only finitely many are nonzero\\).\n",
    "\n",
    "A Python dictionary is well\\-suited to store the resulting prime decomposition.  For example, we might store the prime decomposition $2^3 3^2 7$ with the dictionary `{2:3, 3:2, 7:1}`.  The primes which occur in the decomposition become the _keys_ of the dictionary, and the natural number exponents becomes the _values_ of the dictionary.\n",
    "\n"
   ]
  },
  {
   "cell_type": "markdown",
   "metadata": {
    "collapsed": false
   },
   "source": [
    "The functions below decompose a positive integer `N` into primes, storing the result in a dictionary.  The strategy is to repeatedly strip off \\(divide by\\) the smallest prime factor of a number, adjusting the dictionary along the way, until the number is reduced to 1.  The first function below finds the smallest prime factor of a number.\n"
   ]
  },
  {
   "cell_type": "code",
   "execution_count": 3,
   "metadata": {
    "collapsed": false
   },
   "outputs": [
   ],
   "source": [
    "def smallest_factor(n):\n",
    "    base_factor = 2\n",
    "    \n",
    "    while base_factor < n:\n",
    "        if n%base_factor == 0:\n",
    "            return base_factor\n",
    "        base_factor += 1\n",
    "    return n"
   ]
  },
  {
   "cell_type": "code",
   "execution_count": 4,
   "metadata": {
    "collapsed": false
   },
   "outputs": [
    {
     "data": {
      "text/plain": [
       "19"
      ]
     },
     "execution_count": 4,
     "metadata": {
     },
     "output_type": "execute_result"
    }
   ],
   "source": [
    "smallest_factor(19)"
   ]
  },
  {
   "cell_type": "code",
   "execution_count": 7,
   "metadata": {
    "collapsed": false
   },
   "outputs": [
   ],
   "source": [
    "def p_factor(n):\n",
    "    '''\n",
    "    Gives the unique prime decomposition of a positive integer N,\n",
    "    as a dictionary with primes as keys and exponents as values.\n",
    "    '''\n",
    "    c = n # We'll divide out factors from c until we get 1.\n",
    "    decomposite = {} # An empty dictionary to start.\n",
    "    while c > 1:\n",
    "        p = smallest_factor(c) # The smallest prime factor of the current number.\n",
    "    \n",
    "        if p in decomposite.keys(): # Is p already in the list of keys?\n",
    "            decomposite[p] += 1\n",
    "        else:\n",
    "             decomposite[p] = 1\n",
    "        c = c // p\n",
    "    return decomposite"
   ]
  },
  {
   "cell_type": "code",
   "execution_count": 8,
   "metadata": {
    "collapsed": false
   },
   "outputs": [
    {
     "data": {
      "text/plain": [
       "{2: 2, 5: 2}"
      ]
     },
     "execution_count": 8,
     "metadata": {
     },
     "output_type": "execute_result"
    }
   ],
   "source": [
    "dict(factor(100)) # USe the built in \"factor\" function and convert the result into a dictionary"
   ]
  },
  {
   "cell_type": "code",
   "execution_count": 9,
   "metadata": {
    "collapsed": false
   },
   "outputs": [
    {
     "data": {
      "text/plain": [
       "{2: 2, 5: 2}"
      ]
     },
     "execution_count": 9,
     "metadata": {
     },
     "output_type": "execute_result"
    }
   ],
   "source": [
    "p_factor(100) # here we are calling our builted function"
   ]
  },
  {
   "cell_type": "markdown",
   "metadata": {
    "collapsed": false
   },
   "source": [
    "### Greater Common Divisor \\(GCD\\)\n",
    "\n",
    "Finding the GCD using prime factorization of the intended numbers. The smaller exponent of the common primes will be multiplied to get the GCD.\n",
    "\n",
    "Prior to that let's see the prime factorization of two numbers.\n",
    "\n"
   ]
  },
  {
   "cell_type": "code",
   "execution_count": 11,
   "metadata": {
    "collapsed": false
   },
   "outputs": [
    {
     "name": "stdout",
     "output_type": "stream",
     "text": [
      "[(2, 1), (5, 2)]\n",
      "[(3, 1), (5, 2)]\n"
     ]
    }
   ],
   "source": [
    "print(list(factor(50)))\n",
    "print(list(factor(75)))"
   ]
  },
  {
   "cell_type": "code",
   "execution_count": 12,
   "metadata": {
    "collapsed": false
   },
   "outputs": [
   ],
   "source": [
    "def gcd_factor(a, b):\n",
    "    a_factors = list(factor(a))\n",
    "    b_factors = list(factor(b))\n",
    "    \n",
    "    d = 1\n",
    "    i, j = 0, 0\n",
    "    while i<len(a_factors) or j<len(b_factors):\n",
    "        if i==len(a_factors) and j<len(b_factors):\n",
    "            j += 1\n",
    "        elif i<len(a_factors) and j==len(b_factors):\n",
    "            i += 1\n",
    "        else:\n",
    "            if a_factors[i][0]< b_factors[j][0]:\n",
    "                i += 1\n",
    "            elif a_factors[i][0]> b_factors[j][0]:\n",
    "                j += 1\n",
    "            \n",
    "            else:\n",
    "                d *= a_factors[i][0] ** min(a_factors[i][1], b_factors[j][1])\n",
    "                i += 1\n",
    "                j += 1\n",
    "                \n",
    "    return d    "
   ]
  },
  {
   "cell_type": "code",
   "execution_count": 13,
   "metadata": {
    "collapsed": false
   },
   "outputs": [
    {
     "data": {
      "text/plain": [
       "25"
      ]
     },
     "execution_count": 13,
     "metadata": {
     },
     "output_type": "execute_result"
    }
   ],
   "source": [
    "gcd_factor(50,75)"
   ]
  },
  {
   "cell_type": "markdown",
   "metadata": {
    "collapsed": false
   },
   "source": [
    "### Least Common Multiple \\(LCM\\)\n",
    "\n",
    "Finding the LCM using prime factorization of the intended numbers. The greater exponent of the common primes will be multiplied to get the LCM.\n"
   ]
  },
  {
   "cell_type": "code",
   "execution_count": 14,
   "metadata": {
    "collapsed": false
   },
   "outputs": [
   ],
   "source": [
    "def lcm_factor(a, b):\n",
    "    a_factors = list(factor(a))\n",
    "    b_factors = list(factor(b))\n",
    "    \n",
    "    d = 1\n",
    "    i, j = 0, 0\n",
    "    while i<len(a_factors) or j<len(b_factors):\n",
    "        if i==len(a_factors) and j<len(b_factors):\n",
    "            d *= b_factors[j][0] ** b_factors[j][1]\n",
    "            j += 1\n",
    "        elif i<len(a_factors) and j==len(b_factors):\n",
    "            d *= a_factors[i][0] ** a_factors[i][1]\n",
    "            i += 1\n",
    "        else:\n",
    "            if a_factors[i][0]< b_factors[j][0]:\n",
    "                d *= a_factors[i][0] ** a_factors[i][1]\n",
    "                i += 1\n",
    "            elif a_factors[i][0]> b_factors[j][0]:\n",
    "                d *= b_factors[j][0] ** b_factors[j][1]\n",
    "                j += 1\n",
    "            \n",
    "            else:\n",
    "                d *= a_factors[i][0] ** max(a_factors[i][1], b_factors[j][1])\n",
    "                i += 1\n",
    "                j += 1\n",
    "                \n",
    "    return d    \n"
   ]
  },
  {
   "cell_type": "code",
   "execution_count": 15,
   "metadata": {
    "collapsed": false
   },
   "outputs": [
    {
     "data": {
      "text/plain": [
       "150"
      ]
     },
     "execution_count": 15,
     "metadata": {
     },
     "output_type": "execute_result"
    }
   ],
   "source": [
    "lcm_factor(50, 75)"
   ]
  },
  {
   "cell_type": "code",
   "execution_count": 0,
   "metadata": {
    "collapsed": false
   },
   "outputs": [
   ],
   "source": [
   ]
  }
 ],
 "metadata": {
  "kernelspec": {
   "display_name": "SageMath 9.7",
   "language": "sagemath",
   "metadata": {
    "cocalc": {
     "description": "Open-source mathematical software system",
     "priority": 10,
     "url": "https://www.sagemath.org/"
    }
   },
   "name": "sage-9.7",
   "resource_dir": "/ext/jupyter/kernels/sage-9.7"
  },
  "language_info": {
   "codemirror_mode": {
    "name": "ipython",
    "version": 3
   },
   "file_extension": ".py",
   "mimetype": "text/x-python",
   "name": "python",
   "nbconvert_exporter": "python",
   "pygments_lexer": "ipython3",
   "version": "3.10.5"
  }
 },
 "nbformat": 4,
 "nbformat_minor": 4
}