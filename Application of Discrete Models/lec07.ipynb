{
 "cells": [
  {
   "cell_type": "markdown",
   "metadata": {
    "collapsed": false
   },
   "source": [
    "### Sieve of Eratosthenes\n",
    "\n",
    "A mathematical algorithm of finding prime numbers between two sets of numbers. Its main principle is \"_Any multiple of a prime number cannot be a prime number_\". In other words, every non\\-prime number has a prime as a factor. After a prime number is identified, then, all of its multiples can automatically be assumed as non\\-prime. The Sieve of Eratosthenes is a method for removing them.\n",
    "\n",
    "- List all consecutive numbers from 2 to n, i.e. \\(2, 3, 4, 5, ……, n\\).\n",
    "- Assign the first prime number p=2.\n",
    "- Beginning with p2, perform an incremental of p and mark the integers equal or greater than p2 in the algorithm. These integers will be p\\(p \\+ 1\\), p\\(p \\+ 2\\), p\\(p \\+ 3\\), p\\(p \\+ 4\\) …\n",
    "- The first unmarked number greater than p is identified from the list of numbers. If the number does not exist in the list, the procedure is halted. p is equated to the number and step 3 is repeated.\n",
    "- The Sieve of Eratosthenes is stopped when the square of the number being tested exceeds the last number on the list of numbers.\n",
    "- All numbers in the list left unmarked when the algorithm ends are referred to as prime numbers.\n",
    "\n"
   ]
  },
  {
   "cell_type": "code",
   "execution_count": 5,
   "metadata": {
    "collapsed": false
   },
   "outputs": [
   ],
   "source": [
    "def sieve_of_eratosthenes(n):\n",
    "    # assume that n is an integer, greater than 1\n",
    "    \n",
    "    numbers = [2..n]\n",
    "    primes = []\n",
    "    while len(numbers) > 0:\n",
    "        primes.append(numbers[0])\n",
    "        numbers = list(filter(lambda x: x % primes[-1] != 0, numbers[1:]))\n",
    "    \n",
    "    return primes"
   ]
  },
  {
   "cell_type": "code",
   "execution_count": 6,
   "metadata": {
    "collapsed": false
   },
   "outputs": [
    {
     "data": {
      "text/plain": [
       "[2,\n",
       " 3,\n",
       " 5,\n",
       " 7,\n",
       " 11,\n",
       " 13,\n",
       " 17,\n",
       " 19,\n",
       " 23,\n",
       " 29,\n",
       " 31,\n",
       " 37,\n",
       " 41,\n",
       " 43,\n",
       " 47,\n",
       " 53,\n",
       " 59,\n",
       " 61,\n",
       " 67,\n",
       " 71,\n",
       " 73,\n",
       " 79,\n",
       " 83,\n",
       " 89,\n",
       " 97]"
      ]
     },
     "execution_count": 6,
     "metadata": {
     },
     "output_type": "execute_result"
    }
   ],
   "source": [
    "sieve_of_eratosthenes(100)"
   ]
  },
  {
   "cell_type": "markdown",
   "metadata": {
    "collapsed": false
   },
   "source": [
    "## Calculations in modular arithmetic\n",
    "\n"
   ]
  },
  {
   "cell_type": "markdown",
   "metadata": {
    "collapsed": false
   },
   "source": [
    "### The mod \\(%\\) operator\n",
    "\n",
    "For basic modular arithmetic, one can use Python's \"mod operator\" `%` to obtain remainders.  There is a conceptual difference between the \"mod\" of computer programming and the \"mod\" of number theorists.  In computer programming, \"mod\" is typically the operator which outputs the remainder after division.  So for a computer scientist, \"23 mod 5 = 3\", because 3 is the remainder after dividing 23 by 5.\n",
    "\n",
    "Number theorists \\(starting with Gauss\\) take a radical conceptual shift.  A number theorist would write $23 \\equiv 3$ mod $5$, to say that 23 is **congruent** to 3 modulo 5.  In this sense \"mod 5\" \\(standing for \"modulo 5\"\\) is a prepositional phrase, describing the \"modular world\" in which 23 is the same as \\(\"congruent to\"\\) 3.\n",
    "\n",
    "To connect these perspectives, we would say that the computer scientist's statement \"23 mod 5 = 3\" gives the **natural representative** 3 for the number 23 in the mathematician's \"ring of integers mod 5\".  \\(Here \"ring\" is a term from abstract algebra.\\)\n"
   ]
  },
  {
   "cell_type": "code",
   "execution_count": 7,
   "metadata": {
    "collapsed": false
   },
   "outputs": [
    {
     "data": {
      "text/plain": [
       "3"
      ]
     },
     "execution_count": 7,
     "metadata": {
     },
     "output_type": "execute_result"
    }
   ],
   "source": [
    "23 % 5  # What is the remainder after dividing 23 by 5?  What is the natural representative of 23 modulo 5?"
   ]
  },
  {
   "cell_type": "markdown",
   "metadata": {
    "collapsed": false
   },
   "source": [
    "The miracle that makes modular arithmetic work is that the end\\-result of a computation \"mod m\" is not changed if one works \"mod m\" along the way.  At least this is true if the computation only involves **addition, subtraction, and multiplication**.\n"
   ]
  },
  {
   "cell_type": "code",
   "execution_count": 8,
   "metadata": {
    "collapsed": false
   },
   "outputs": [
    {
     "data": {
      "text/plain": [
       "9"
      ]
     },
     "execution_count": 8,
     "metadata": {
     },
     "output_type": "execute_result"
    }
   ],
   "source": [
    "((17 + 38) * (105 - 193)) % 13  # Do a bunch of stuff, then take the representative modulo 13."
   ]
  },
  {
   "cell_type": "code",
   "execution_count": 9,
   "metadata": {
    "collapsed": false
   },
   "outputs": [
    {
     "data": {
      "text/plain": [
       "9"
      ]
     },
     "execution_count": 9,
     "metadata": {
     },
     "output_type": "execute_result"
    }
   ],
   "source": [
    "(((17%13) + (38%13)) * ((105%13) - (193%13)) ) % 13 # Working modulo 13 along the way."
   ]
  },
  {
   "cell_type": "markdown",
   "metadata": {
    "collapsed": false
   },
   "source": [
    "It might seem tedious to carry out this \"reduction mod m\" at every step along the way.  But the advantage is that you never have to work with numbers much bigger than the modulus \\(m\\) if you can reduce modulo m at each step.\n",
    "\n",
    "For example, consider the following computation.\n"
   ]
  },
  {
   "cell_type": "code",
   "execution_count": 10,
   "metadata": {
    "collapsed": false
   },
   "outputs": [
    {
     "data": {
      "text/plain": [
       "440690273160268878963485086584048121988474010917382722554973456075609532448901633180259437950202687321303259232290860785316984860700206303955114241752651224675873408399440267959338258076321613758130133372529539347042982605207698146020522057684695558163502059375160114801849018132346298605821789418305378740276756187926194096742805466102629298972852134694966312536457747390615453312898505588339646862703020142029890479621367604783461882915721944003538122044057700922967618406667"
      ]
     },
     "execution_count": 10,
     "metadata": {
     },
     "output_type": "execute_result"
    }
   ],
   "source": [
    "3**999 # A very large integer."
   ]
  },
  {
   "cell_type": "code",
   "execution_count": 11,
   "metadata": {
    "collapsed": false
   },
   "outputs": [
    {
     "data": {
      "text/plain": [
       "667"
      ]
     },
     "execution_count": 11,
     "metadata": {
     },
     "output_type": "execute_result"
    }
   ],
   "source": [
    "(3**999) % 1000  # What are the last 3 digits of 3 raised to the 999 power?"
   ]
  },
  {
   "cell_type": "markdown",
   "metadata": {
    "collapsed": false
   },
   "source": [
    "Compute multiplication table \\(as a matrix\\) for $\\mathbb{Z}_m$ with m=2, .., 6\n",
    "\n"
   ]
  },
  {
   "cell_type": "code",
   "execution_count": 1,
   "metadata": {
    "collapsed": false
   },
   "outputs": [
    {
     "data": {
      "text/plain": [
       "[(\n",
       "   [0 0]\n",
       "2, [0 1]\n",
       "),\n",
       " (\n",
       "   [0 0 0]\n",
       "   [0 1 2]\n",
       "3, [0 2 1]\n",
       "),\n",
       " (\n",
       "   [0 0 0 0]\n",
       "   [0 1 2 3]\n",
       "   [0 2 0 2]\n",
       "4, [0 3 2 1]\n",
       "),\n",
       " (\n",
       "   [0 0 0 0 0]\n",
       "   [0 1 2 3 4]\n",
       "   [0 2 4 1 3]\n",
       "   [0 3 1 4 2]\n",
       "5, [0 4 3 2 1]\n",
       "),\n",
       " (\n",
       "   [0 0 0 0 0 0]\n",
       "   [0 1 2 3 4 5]\n",
       "   [0 2 4 0 2 4]\n",
       "   [0 3 0 3 0 3]\n",
       "   [0 4 2 0 4 2]\n",
       "6, [0 5 4 3 2 1]\n",
       ")]"
      ]
     },
     "execution_count": 1,
     "metadata": {
     },
     "output_type": "execute_result"
    }
   ],
   "source": [
    "[(m, matrix(m, m, lambda i, j: i * j % m)) for m in range(2, 7)]"
   ]
  }
 ],
 "metadata": {
  "kernelspec": {
   "display_name": "SageMath 9.7",
   "language": "sagemath",
   "metadata": {
    "cocalc": {
     "description": "Open-source mathematical software system",
     "priority": 10,
     "url": "https://www.sagemath.org/"
    }
   },
   "name": "sage-9.7",
   "resource_dir": "/ext/jupyter/kernels/sage-9.7"
  },
  "language_info": {
   "codemirror_mode": {
    "name": "ipython",
    "version": 3
   },
   "file_extension": ".py",
   "mimetype": "text/x-python",
   "name": "python",
   "nbconvert_exporter": "python",
   "pygments_lexer": "ipython3",
   "version": "3.10.5"
  }
 },
 "nbformat": 4,
 "nbformat_minor": 4
}