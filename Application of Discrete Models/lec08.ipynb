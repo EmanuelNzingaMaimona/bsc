{
 "cells": [
  {
   "cell_type": "markdown",
   "metadata": {
    "collapsed": false
   },
   "source": [
    "## Linear Congruence Equations\n",
    "\n",
    "This equation is of the form:\n",
    "\n",
    "a⋅x=b\\(mod m\\),\n",
    "\n",
    "where a, b and m are given integers and x is an unknown integer.\n",
    "\n",
    "It is required to find the value x from the interval \\[0, m−1\\]. If the solution is not unique, then we will consider how to get all the solutions. \n",
    "\n",
    "- A linear congruence equation ax=b \\(mod m\\) is solvable iff the congruence  b=0 \\(mod d\\) \twith d=GCD\\(a,m\\) is the greatest common divisor is solvable.\n",
    "- This form of a linear congruence has at most m solutions.\n",
    "- If gcd\\(a, m\\)=1 then ax≡b\\(mod m\\) has a unique solution.\n",
    "\n"
   ]
  },
  {
   "cell_type": "markdown",
   "metadata": {
    "collapsed": false
   },
   "source": [
    "## Linear Congruence Equations: Solution\n",
    "\n",
    "A tool that comes handy when it comes to solving congruence equations is a multiplicative inverse. \n",
    "\n",
    "A multiplicative inverse for a in modulo m exists if and only if gcd\\(a,m\\)=1. \n",
    "\n",
    "A multiplicative inverse for a is denoted as a $a^{-1}$ where $a.a^{-1}$≡1 \\(mod m\\).\n",
    "\n",
    "If the numbers are small enough, it will usually be easy to find the multiplicative inverse by guessing and checking \\(brute force\\). However, if the numbers are not small enough, this tool is not feasible.\n",
    "\n",
    "The linear congruence equation a⋅x=b\\(mod m\\) can be rewritten to the following Diophantine equation:\n",
    "\n",
    "a⋅x\\+m⋅k=b,\n",
    "\n",
    "where x and k are unknown integers.\n",
    "\n",
    "The method of solving this equation consists of applying the Extended Euclidean Algorithm.\n",
    "\n"
   ]
  },
  {
   "cell_type": "code",
   "execution_count": 2,
   "metadata": {
    "collapsed": false
   },
   "outputs": [
   ],
   "source": [
    "def solve_linear_congruence_equation(a, b, m):\n",
    "    d, x_0, y_0 = xgcd(a, m)\n",
    "\n",
    "    if b % d != 0:\n",
    "        raise ValueError(f'{a}x congurent b (mod {m}) has no solution')\n",
    "    \n",
    "    m_prime = m // d\n",
    "    b_prime = b // d\n",
    "    x_1 = x_0 * b_prime\n",
    "    \n",
    "    while x_1 < 0:\n",
    "        x_1 += m_prime\n",
    "    \n",
    "    return [x_1 + k * m_prime for k in range(0, d)]"
   ]
  },
  {
   "cell_type": "code",
   "execution_count": 0,
   "metadata": {
    "collapsed": false
   },
   "outputs": [
   ],
   "source": [
   ]
  }
 ],
 "metadata": {
  "kernelspec": {
   "display_name": "SageMath 9.7",
   "language": "sagemath",
   "metadata": {
    "cocalc": {
     "description": "Open-source mathematical software system",
     "priority": 10,
     "url": "https://www.sagemath.org/"
    }
   },
   "name": "sage-9.7",
   "resource_dir": "/ext/jupyter/kernels/sage-9.7"
  },
  "language_info": {
   "codemirror_mode": {
    "name": "ipython",
    "version": 3
   },
   "file_extension": ".py",
   "mimetype": "text/x-python",
   "name": "python",
   "nbconvert_exporter": "python",
   "pygments_lexer": "ipython3",
   "version": "3.10.5"
  }
 },
 "nbformat": 4,
 "nbformat_minor": 4
}