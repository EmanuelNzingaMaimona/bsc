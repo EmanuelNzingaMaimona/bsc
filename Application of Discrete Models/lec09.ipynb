{
 "cells": [
  {
   "cell_type": "markdown",
   "metadata": {
    "collapsed": false
   },
   "source": [
    "### Chinese Remainder Theorem \\(CRT\\)\n",
    "\n",
    "The theorem can be expressed using congruence notation. Let $m_1, m_2, \\dots, m_k$ be integers that are greater than one and pairwise relatively prime \\(that is, the only common factor between any two of them is 1\\), and let $a_1, a_2, \\dots, a_k$ be any integers. Then there exists an integer solution a such that $a ≡ a_i (\\mod{n_i})$ for each i = 1, 2, …, k. Furthermore, for any other integer b that satisfies all the congruences, b ≡ a \\(mod N\\) where $N = n_1n_2\\dots n_k$. \n",
    "\n",
    "The theorem also gives a formula for finding a solution. There is not necessarily any solution to such a system of equations when the moduli are not pairwise relatively prime.\n",
    "\n"
   ]
  },
  {
   "cell_type": "code",
   "execution_count": 0,
   "metadata": {
    "collapsed": false
   },
   "outputs": [
   ],
   "source": [
    "def chinese_remainder_theorem(cs, ms):\n",
    "    if len(cs) == 0:\n",
    "        raise ValueError('cs is empty')\n",
    "    \n",
    "    if len(cs) != len(ms):\n",
    "        raise ValueError('cs and ms does not have same length')\n",
    "    \n",
    "    for i in range(len(cs)):\n",
    "        if not cs[i].is_integer() or not ms[i].is_integer():\n",
    "            raise ValueError('not all entries are integer')\n",
    "        \n",
    "        if ms[i] == 0:\n",
    "            raise ValueError('there is 0 in ms')\n",
    "        \n",
    "        ms[i] = abs(ms[i])\n",
    "    \n",
    "    cms = list(zip(cs, ms))\n",
    "    \n",
    "    if len(cms) == 1:\n",
    "        return cs[0] % ms[0], ms[0]\n",
    "    \n",
    "    while len(cms) > 1:\n",
    "        cms = list(sorted(cms, key=lambda x: x[1]))\n",
    "        \n",
    "        c1, m1 = cms[0][0], cms[0][1]\n",
    "        c2, m2 = cms[1][0], cms[1][1]\n",
    "        \n",
    "        # here gcd(m1,...,m_n) = gcd(gcd(m1*m2),m3,...,m_n)\n",
    "        d, x, y = xgcd(m1, m2)\n",
    "        if d != 1:\n",
    "            raise ValueError('not all ms are coprime')\n",
    "        \n",
    "        m12 = m1 * m2\n",
    "        c12 = (c2 * m1 * x + c1 * m2 * y) % m12\n",
    "        \n",
    "        cms = cms[2:] + [(c12, m12)]\n",
    "\n",
    "    return cms[0][0], cms[0][1]"
   ]
  },
  {
   "cell_type": "code",
   "execution_count": 0,
   "metadata": {
    "collapsed": false
   },
   "outputs": [
   ],
   "source": [
    "chinese_remainder_theorem([2, 3, 2], [3, 5, 7])"
   ]
  },
  {
   "cell_type": "code",
   "execution_count": 0,
   "metadata": {
    "collapsed": false
   },
   "outputs": [
   ],
   "source": [
    "chinese_remainder_theorem([2, 1, 3], [3, 4, 5])"
   ]
  }
 ],
 "metadata": {
  "kernelspec": {
   "display_name": "SageMath 9.7",
   "language": "sagemath",
   "metadata": {
    "cocalc": {
     "description": "Open-source mathematical software system",
     "priority": 10,
     "url": "https://www.sagemath.org/"
    }
   },
   "name": "sage-9.7",
   "resource_dir": "/ext/jupyter/kernels/sage-9.7"
  }
 },
 "nbformat": 4,
 "nbformat_minor": 4
}