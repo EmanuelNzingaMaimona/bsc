{
 "cells": [
  {
   "cell_type": "code",
   "execution_count": 1,
   "metadata": {
    "collapsed": false
   },
   "outputs": [
   ],
   "source": [
    "def p_factor(n):\n",
    "    return list(factor(n))"
   ]
  },
  {
   "cell_type": "code",
   "execution_count": 2,
   "metadata": {
    "collapsed": false
   },
   "outputs": [
    {
     "data": {
      "text/plain": [
       "[(2, 2), (5, 1)]"
      ]
     },
     "execution_count": 2,
     "metadata": {
     },
     "output_type": "execute_result"
    }
   ],
   "source": [
    "p_factor(20)"
   ]
  },
  {
   "cell_type": "code",
   "execution_count": 6,
   "metadata": {
    "collapsed": false
   },
   "outputs": [
   ],
   "source": [
    "def unsigned_euclidean_division(m, n):\n",
    "    q=0\n",
    "    r = m\n",
    "    while r >= n:\n",
    "        q += 1\n",
    "        r -= n\n",
    "    return q, r"
   ]
  },
  {
   "cell_type": "code",
   "execution_count": 7,
   "metadata": {
    "collapsed": false
   },
   "outputs": [
   ],
   "source": [
    "def euclidean_division(a, b):\n",
    "    \n",
    "    if b<0:\n",
    "        q, r = unsigned_euclidean_division(a, -b)\n",
    "        return -q, r\n",
    "    \n",
    "    if a<0:\n",
    "        q, r = unsigned_euclidean_division(-a, b)\n",
    "        if r ==0:\n",
    "            return -q, 0\n",
    "        return -q-1, b-r\n",
    "    \n",
    "    return unsigned_euclidean_division(a, b)"
   ]
  },
  {
   "cell_type": "code",
   "execution_count": 10,
   "metadata": {
    "collapsed": false
   },
   "outputs": [
   ],
   "source": [
    "def extended_euclidean_algorithm(a, b):\n",
    "    if a==0 and b==0:\n",
    "        return 0, 0, 0\n",
    "    if a>0 and b==0:\n",
    "        return a, 1 , 0\n",
    "    if a<0 and b==0:\n",
    "        return -a, -1, 0\n",
    "    \n",
    "    x_prev, y_prev, r_prev = 1, 0, a\n",
    "    x, y, r = 0, 1, b\n",
    "    \n",
    "    while r !=0:\n",
    "        q, t = euclidean_division(r_prev, r)\n",
    "        r_prev = r\n",
    "        r = t\n",
    "        \n",
    "        t = x\n",
    "        x = x_prev - t * q\n",
    "        x_prev = t\n",
    "        \n",
    "        t = y\n",
    "        y = y_prev - t * q\n",
    "        y_prev = t\n",
    "    return r_prev, x_prev, y_prev"
   ]
  },
  {
   "cell_type": "code",
   "execution_count": 11,
   "metadata": {
    "collapsed": false
   },
   "outputs": [
    {
     "data": {
      "text/plain": [
       "(4, -7, 16)"
      ]
     },
     "execution_count": 11,
     "metadata": {
     },
     "output_type": "execute_result"
    }
   ],
   "source": [
    "extended_euclidean_algorithm(164, 72)"
   ]
  },
  {
   "cell_type": "code",
   "execution_count": 0,
   "metadata": {
    "collapsed": false
   },
   "outputs": [
   ],
   "source": [
   ]
  }
 ],
 "metadata": {
  "kernelspec": {
   "display_name": "SageMath 9.7",
   "language": "sagemath",
   "metadata": {
    "cocalc": {
     "description": "Open-source mathematical software system",
     "priority": 10,
     "url": "https://www.sagemath.org/"
    }
   },
   "name": "sage-9.7",
   "resource_dir": "/ext/jupyter/kernels/sage-9.7"
  },
  "language_info": {
   "codemirror_mode": {
    "name": "ipython",
    "version": 3
   },
   "file_extension": ".py",
   "mimetype": "text/x-python",
   "name": "python",
   "nbconvert_exporter": "python",
   "pygments_lexer": "ipython3",
   "version": "3.10.5"
  }
 },
 "nbformat": 4,
 "nbformat_minor": 4
}